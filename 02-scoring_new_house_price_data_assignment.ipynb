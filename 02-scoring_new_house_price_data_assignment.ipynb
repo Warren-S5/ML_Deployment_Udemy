{
 "cells": [
  {
   "cell_type": "markdown",
   "id": "23d626ec",
   "metadata": {},
   "source": [
    "## Assignment 2: Scoring New House Price Data"
   ]
  },
  {
   "cell_type": "code",
   "execution_count": 1,
   "id": "e09edac4",
   "metadata": {},
   "outputs": [],
   "source": [
    "import pandas as pd\n",
    "import numpy as np\n",
    "\n",
    "# for plotting\n",
    "import matplotlib.pyplot as plt\n",
    "\n",
    "# for the yeo-johnson transformation\n",
    "import scipy.stats as stats\n",
    "\n",
    "# feature scaling\n",
    "from sklearn.preprocessing import MinMaxScaler\n",
    "\n",
    "# to save the model\n",
    "import joblib"
   ]
  },
  {
   "cell_type": "code",
   "execution_count": 2,
   "id": "f8da4da8",
   "metadata": {},
   "outputs": [
    {
     "name": "stdout",
     "output_type": "stream",
     "text": [
      "(1459, 80)\n"
     ]
    },
    {
     "data": {
      "text/html": [
       "<div>\n",
       "<style scoped>\n",
       "    .dataframe tbody tr th:only-of-type {\n",
       "        vertical-align: middle;\n",
       "    }\n",
       "\n",
       "    .dataframe tbody tr th {\n",
       "        vertical-align: top;\n",
       "    }\n",
       "\n",
       "    .dataframe thead th {\n",
       "        text-align: right;\n",
       "    }\n",
       "</style>\n",
       "<table border=\"1\" class=\"dataframe\">\n",
       "  <thead>\n",
       "    <tr style=\"text-align: right;\">\n",
       "      <th></th>\n",
       "      <th>Id</th>\n",
       "      <th>MSSubClass</th>\n",
       "      <th>MSZoning</th>\n",
       "      <th>LotFrontage</th>\n",
       "      <th>LotArea</th>\n",
       "      <th>Street</th>\n",
       "      <th>Alley</th>\n",
       "      <th>LotShape</th>\n",
       "      <th>LandContour</th>\n",
       "      <th>Utilities</th>\n",
       "      <th>...</th>\n",
       "      <th>ScreenPorch</th>\n",
       "      <th>PoolArea</th>\n",
       "      <th>PoolQC</th>\n",
       "      <th>Fence</th>\n",
       "      <th>MiscFeature</th>\n",
       "      <th>MiscVal</th>\n",
       "      <th>MoSold</th>\n",
       "      <th>YrSold</th>\n",
       "      <th>SaleType</th>\n",
       "      <th>SaleCondition</th>\n",
       "    </tr>\n",
       "  </thead>\n",
       "  <tbody>\n",
       "    <tr>\n",
       "      <th>0</th>\n",
       "      <td>1461</td>\n",
       "      <td>20</td>\n",
       "      <td>RH</td>\n",
       "      <td>80.0</td>\n",
       "      <td>11622</td>\n",
       "      <td>Pave</td>\n",
       "      <td>NaN</td>\n",
       "      <td>Reg</td>\n",
       "      <td>Lvl</td>\n",
       "      <td>AllPub</td>\n",
       "      <td>...</td>\n",
       "      <td>120</td>\n",
       "      <td>0</td>\n",
       "      <td>NaN</td>\n",
       "      <td>MnPrv</td>\n",
       "      <td>NaN</td>\n",
       "      <td>0</td>\n",
       "      <td>6</td>\n",
       "      <td>2010</td>\n",
       "      <td>WD</td>\n",
       "      <td>Normal</td>\n",
       "    </tr>\n",
       "    <tr>\n",
       "      <th>1</th>\n",
       "      <td>1462</td>\n",
       "      <td>20</td>\n",
       "      <td>RL</td>\n",
       "      <td>81.0</td>\n",
       "      <td>14267</td>\n",
       "      <td>Pave</td>\n",
       "      <td>NaN</td>\n",
       "      <td>IR1</td>\n",
       "      <td>Lvl</td>\n",
       "      <td>AllPub</td>\n",
       "      <td>...</td>\n",
       "      <td>0</td>\n",
       "      <td>0</td>\n",
       "      <td>NaN</td>\n",
       "      <td>NaN</td>\n",
       "      <td>Gar2</td>\n",
       "      <td>12500</td>\n",
       "      <td>6</td>\n",
       "      <td>2010</td>\n",
       "      <td>WD</td>\n",
       "      <td>Normal</td>\n",
       "    </tr>\n",
       "    <tr>\n",
       "      <th>2</th>\n",
       "      <td>1463</td>\n",
       "      <td>60</td>\n",
       "      <td>RL</td>\n",
       "      <td>74.0</td>\n",
       "      <td>13830</td>\n",
       "      <td>Pave</td>\n",
       "      <td>NaN</td>\n",
       "      <td>IR1</td>\n",
       "      <td>Lvl</td>\n",
       "      <td>AllPub</td>\n",
       "      <td>...</td>\n",
       "      <td>0</td>\n",
       "      <td>0</td>\n",
       "      <td>NaN</td>\n",
       "      <td>MnPrv</td>\n",
       "      <td>NaN</td>\n",
       "      <td>0</td>\n",
       "      <td>3</td>\n",
       "      <td>2010</td>\n",
       "      <td>WD</td>\n",
       "      <td>Normal</td>\n",
       "    </tr>\n",
       "    <tr>\n",
       "      <th>3</th>\n",
       "      <td>1464</td>\n",
       "      <td>60</td>\n",
       "      <td>RL</td>\n",
       "      <td>78.0</td>\n",
       "      <td>9978</td>\n",
       "      <td>Pave</td>\n",
       "      <td>NaN</td>\n",
       "      <td>IR1</td>\n",
       "      <td>Lvl</td>\n",
       "      <td>AllPub</td>\n",
       "      <td>...</td>\n",
       "      <td>0</td>\n",
       "      <td>0</td>\n",
       "      <td>NaN</td>\n",
       "      <td>NaN</td>\n",
       "      <td>NaN</td>\n",
       "      <td>0</td>\n",
       "      <td>6</td>\n",
       "      <td>2010</td>\n",
       "      <td>WD</td>\n",
       "      <td>Normal</td>\n",
       "    </tr>\n",
       "    <tr>\n",
       "      <th>4</th>\n",
       "      <td>1465</td>\n",
       "      <td>120</td>\n",
       "      <td>RL</td>\n",
       "      <td>43.0</td>\n",
       "      <td>5005</td>\n",
       "      <td>Pave</td>\n",
       "      <td>NaN</td>\n",
       "      <td>IR1</td>\n",
       "      <td>HLS</td>\n",
       "      <td>AllPub</td>\n",
       "      <td>...</td>\n",
       "      <td>144</td>\n",
       "      <td>0</td>\n",
       "      <td>NaN</td>\n",
       "      <td>NaN</td>\n",
       "      <td>NaN</td>\n",
       "      <td>0</td>\n",
       "      <td>1</td>\n",
       "      <td>2010</td>\n",
       "      <td>WD</td>\n",
       "      <td>Normal</td>\n",
       "    </tr>\n",
       "  </tbody>\n",
       "</table>\n",
       "<p>5 rows × 80 columns</p>\n",
       "</div>"
      ],
      "text/plain": [
       "     Id  MSSubClass MSZoning  LotFrontage  LotArea Street Alley LotShape  \\\n",
       "0  1461          20       RH         80.0    11622   Pave   NaN      Reg   \n",
       "1  1462          20       RL         81.0    14267   Pave   NaN      IR1   \n",
       "2  1463          60       RL         74.0    13830   Pave   NaN      IR1   \n",
       "3  1464          60       RL         78.0     9978   Pave   NaN      IR1   \n",
       "4  1465         120       RL         43.0     5005   Pave   NaN      IR1   \n",
       "\n",
       "  LandContour Utilities  ... ScreenPorch PoolArea PoolQC  Fence MiscFeature  \\\n",
       "0         Lvl    AllPub  ...         120        0    NaN  MnPrv         NaN   \n",
       "1         Lvl    AllPub  ...           0        0    NaN    NaN        Gar2   \n",
       "2         Lvl    AllPub  ...           0        0    NaN  MnPrv         NaN   \n",
       "3         Lvl    AllPub  ...           0        0    NaN    NaN         NaN   \n",
       "4         HLS    AllPub  ...         144        0    NaN    NaN         NaN   \n",
       "\n",
       "  MiscVal MoSold  YrSold  SaleType  SaleCondition  \n",
       "0       0      6    2010        WD         Normal  \n",
       "1   12500      6    2010        WD         Normal  \n",
       "2       0      3    2010        WD         Normal  \n",
       "3       0      6    2010        WD         Normal  \n",
       "4       0      1    2010        WD         Normal  \n",
       "\n",
       "[5 rows x 80 columns]"
      ]
     },
     "execution_count": 2,
     "metadata": {},
     "output_type": "execute_result"
    }
   ],
   "source": [
    "train_data = pd.read_csv('train.csv')\n",
    "# load the unseen / new dataset\n",
    "data = pd.read_csv('test.csv')\n",
    "\n",
    "# rows and columns of the data\n",
    "print(data.shape)\n",
    "\n",
    "# visualise the dataset\n",
    "data.head()"
   ]
  },
  {
   "cell_type": "code",
   "execution_count": 3,
   "id": "c910221a",
   "metadata": {},
   "outputs": [
    {
     "data": {
      "text/plain": [
       "(1459, 79)"
      ]
     },
     "execution_count": 3,
     "metadata": {},
     "output_type": "execute_result"
    }
   ],
   "source": [
    "# drop id, it is just a number given to identify each house\n",
    "data.drop('Id', axis=1, inplace=True)\n",
    "\n",
    "data.shape"
   ]
  },
  {
   "cell_type": "markdown",
   "id": "4b69434c",
   "metadata": {},
   "source": [
    "### Fill categorical variables"
   ]
  },
  {
   "cell_type": "code",
   "execution_count": 4,
   "id": "7631d897",
   "metadata": {},
   "outputs": [
    {
     "data": {
      "text/plain": [
       "44"
      ]
     },
     "execution_count": 4,
     "metadata": {},
     "output_type": "execute_result"
    }
   ],
   "source": [
    "# let's identify the categorical variables\n",
    "# we will capture those of type *object*\n",
    "\n",
    "cat_vars = [var for var in data.columns if data[var].dtype == 'O']\n",
    "\n",
    "# MSSubClass is also categorical by definition, despite its numeric values\n",
    "# (you can find the definitions of the variables in the data_description.txt\n",
    "# file available on Kaggle, in the same website where you downloaded the data)\n",
    "\n",
    "# lets add MSSubClass to the list of categorical variables\n",
    "cat_vars = cat_vars + ['MSSubClass']\n",
    "\n",
    "# number of categorical variables\n",
    "len(cat_vars)"
   ]
  },
  {
   "cell_type": "code",
   "execution_count": 5,
   "id": "9bd7853e",
   "metadata": {},
   "outputs": [],
   "source": [
    "# cast all variables as categorical\n",
    "data[cat_vars] = data[cat_vars].astype('O')\n",
    "train_data[cat_vars] = train_data[cat_vars].astype('O')"
   ]
  },
  {
   "cell_type": "code",
   "execution_count": 6,
   "id": "c693ab4d",
   "metadata": {},
   "outputs": [
    {
     "data": {
      "text/plain": [
       "35"
      ]
     },
     "execution_count": 6,
     "metadata": {},
     "output_type": "execute_result"
    }
   ],
   "source": [
    "# now let's identify the numerical variables\n",
    "\n",
    "num_vars = [\n",
    "    var for var in data.columns if var not in cat_vars]\n",
    "\n",
    "# number of numerical variables\n",
    "len(num_vars)"
   ]
  },
  {
   "cell_type": "code",
   "execution_count": 7,
   "id": "466e36f9",
   "metadata": {},
   "outputs": [
    {
     "data": {
      "text/plain": [
       "PoolQC          0.997944\n",
       "MiscFeature     0.965045\n",
       "Alley           0.926662\n",
       "Fence           0.801234\n",
       "FireplaceQu     0.500343\n",
       "GarageCond      0.053461\n",
       "GarageQual      0.053461\n",
       "GarageFinish    0.053461\n",
       "GarageType      0.052090\n",
       "BsmtCond        0.030843\n",
       "BsmtQual        0.030158\n",
       "BsmtExposure    0.030158\n",
       "BsmtFinType1    0.028787\n",
       "BsmtFinType2    0.028787\n",
       "MasVnrType      0.010966\n",
       "MSZoning        0.002742\n",
       "Functional      0.001371\n",
       "Utilities       0.001371\n",
       "KitchenQual     0.000685\n",
       "Exterior2nd     0.000685\n",
       "Exterior1st     0.000685\n",
       "SaleType        0.000685\n",
       "dtype: float64"
      ]
     },
     "execution_count": 7,
     "metadata": {},
     "output_type": "execute_result"
    }
   ],
   "source": [
    "# make a list of the variables that contain missing values\n",
    "cat_vars_with_na = [\n",
    "    var for var in cat_vars\n",
    "    if data[var].isnull().sum() > 0\n",
    "]\n",
    "\n",
    "# determine percentage of missing values (expressed as decimals)\n",
    "# and display the result ordered by % of missin data\n",
    "\n",
    "data[cat_vars_with_na].isnull().mean().sort_values(ascending=False)"
   ]
  },
  {
   "cell_type": "code",
   "execution_count": 8,
   "id": "7c35fe4a",
   "metadata": {},
   "outputs": [],
   "source": [
    "# variables to impute with the string missing\n",
    "with_string_missing = [var for var in cat_vars_with_na if data[var].isnull().mean() > 0.1]\n",
    "\n",
    "# variables to impute with the most frequent category\n",
    "with_frequent_category = [var for var in cat_vars_with_na if data[var].isnull().mean() < 0.1]"
   ]
  },
  {
   "cell_type": "code",
   "execution_count": 9,
   "id": "7049135e",
   "metadata": {},
   "outputs": [
    {
     "data": {
      "text/plain": [
       "['Alley', 'FireplaceQu', 'PoolQC', 'Fence', 'MiscFeature']"
      ]
     },
     "execution_count": 9,
     "metadata": {},
     "output_type": "execute_result"
    }
   ],
   "source": [
    "with_string_missing"
   ]
  },
  {
   "cell_type": "code",
   "execution_count": 10,
   "id": "278ae19c",
   "metadata": {},
   "outputs": [],
   "source": [
    "data[with_string_missing] = data[with_string_missing].fillna('Missing')"
   ]
  },
  {
   "cell_type": "code",
   "execution_count": 11,
   "id": "e36ef7e0",
   "metadata": {},
   "outputs": [
    {
     "name": "stdout",
     "output_type": "stream",
     "text": [
      "MSZoning RL\n",
      "Utilities AllPub\n",
      "Exterior1st VinylSd\n",
      "Exterior2nd VinylSd\n",
      "MasVnrType None\n",
      "BsmtQual TA\n",
      "BsmtCond TA\n",
      "BsmtExposure No\n",
      "BsmtFinType1 GLQ\n",
      "BsmtFinType2 Unf\n",
      "KitchenQual TA\n",
      "Functional Typ\n",
      "GarageType Attchd\n",
      "GarageFinish Unf\n",
      "GarageQual TA\n",
      "GarageCond TA\n",
      "SaleType WD\n"
     ]
    }
   ],
   "source": [
    "for var in with_frequent_category:\n",
    "    \n",
    "    # there can be more than 1 mode in a variable\n",
    "    # we take the first one with [0]    \n",
    "    mode = data[var].mode()[0]\n",
    "    \n",
    "    print(var, mode)\n",
    "    \n",
    "    data[var].fillna(mode, inplace=True)"
   ]
  },
  {
   "cell_type": "markdown",
   "id": "c8dc4755",
   "metadata": {},
   "source": [
    "### Fill numeric variables"
   ]
  },
  {
   "cell_type": "code",
   "execution_count": 12,
   "id": "ae776dae",
   "metadata": {},
   "outputs": [
    {
     "data": {
      "text/plain": [
       "LotFrontage     0.155586\n",
       "MasVnrArea      0.010281\n",
       "BsmtFinSF1      0.000685\n",
       "BsmtFinSF2      0.000685\n",
       "BsmtUnfSF       0.000685\n",
       "TotalBsmtSF     0.000685\n",
       "BsmtFullBath    0.001371\n",
       "BsmtHalfBath    0.001371\n",
       "GarageYrBlt     0.053461\n",
       "GarageCars      0.000685\n",
       "GarageArea      0.000685\n",
       "dtype: float64"
      ]
     },
     "execution_count": 12,
     "metadata": {},
     "output_type": "execute_result"
    }
   ],
   "source": [
    "# make a list with the numerical variables that contain missing values\n",
    "vars_with_na = [\n",
    "    var for var in num_vars\n",
    "    if data[var].isnull().sum() > 0\n",
    "]\n",
    "\n",
    "# print percentage of missing values per variable\n",
    "data[vars_with_na].isnull().mean()"
   ]
  },
  {
   "cell_type": "code",
   "execution_count": 13,
   "id": "535d782b",
   "metadata": {},
   "outputs": [
    {
     "name": "stdout",
     "output_type": "stream",
     "text": [
      "LotFrontage 68.58035714285714\n",
      "MasVnrArea 100.70914127423822\n",
      "BsmtFinSF1 439.2037037037037\n",
      "BsmtFinSF2 52.61934156378601\n",
      "BsmtUnfSF 554.2949245541838\n",
      "TotalBsmtSF 1046.1179698216736\n",
      "BsmtFullBath 0.4344543582704187\n",
      "BsmtHalfBath 0.06520247083047358\n",
      "GarageYrBlt 1977.7212165097756\n",
      "GarageCars 1.7661179698216736\n",
      "GarageArea 472.76886145404666\n"
     ]
    },
    {
     "data": {
      "text/plain": [
       "LotFrontage     0\n",
       "MasVnrArea      0\n",
       "BsmtFinSF1      0\n",
       "BsmtFinSF2      0\n",
       "BsmtUnfSF       0\n",
       "TotalBsmtSF     0\n",
       "BsmtFullBath    0\n",
       "BsmtHalfBath    0\n",
       "GarageYrBlt     0\n",
       "GarageCars      0\n",
       "GarageArea      0\n",
       "dtype: int64"
      ]
     },
     "execution_count": 13,
     "metadata": {},
     "output_type": "execute_result"
    }
   ],
   "source": [
    "# replace missing values as we described above\n",
    "\n",
    "for var in vars_with_na:\n",
    "\n",
    "    # calculate the mean\n",
    "    mean_val = data[var].mean()\n",
    "    \n",
    "    print(var, mean_val)\n",
    "\n",
    "    # add binary missing indicator\n",
    "    data[var + '_na'] = np.where(data[var].isnull(), 1, 0)\n",
    "\n",
    "    # replace missing values by the mean\n",
    "    data[var].fillna(mean_val, inplace=True)\n",
    "\n",
    "# check that we have no more missing values in the engineered variables\n",
    "data[vars_with_na].isnull().sum()"
   ]
  },
  {
   "cell_type": "markdown",
   "id": "e81b0250",
   "metadata": {},
   "source": [
    "### Temporal variables"
   ]
  },
  {
   "cell_type": "code",
   "execution_count": 14,
   "id": "d5f9186a",
   "metadata": {},
   "outputs": [],
   "source": [
    "def elapsed_years(df, var):\n",
    "    # capture difference between the year variable\n",
    "    # and the year in which the house was sold\n",
    "    df[var] = df['YrSold'] - df[var]\n",
    "    return df"
   ]
  },
  {
   "cell_type": "code",
   "execution_count": 15,
   "id": "bb559e4c",
   "metadata": {},
   "outputs": [
    {
     "data": {
      "text/plain": [
       "['YearBuilt', 'YearRemodAdd', 'GarageYrBlt', 'YrSold']"
      ]
     },
     "execution_count": 15,
     "metadata": {},
     "output_type": "execute_result"
    }
   ],
   "source": [
    "year_vars = [var for var in num_vars if 'Yr' in var or 'Year' in var]\n",
    "\n",
    "year_vars"
   ]
  },
  {
   "cell_type": "code",
   "execution_count": 16,
   "id": "a6a3a06f",
   "metadata": {},
   "outputs": [
    {
     "name": "stdout",
     "output_type": "stream",
     "text": [
      "YearBuilt [1961 1958 1997 1998 1992 1993 1990 1970 1999 1971 1975 2009 2005 2003\n",
      " 2002 2006 2004 1920 1974 2000 2010 1967 1978 1966 1964 1962 1952 1949\n",
      " 1959 1956 1955 1948 1960 1963 1900 1957 1938 1923 1890 1910 1922 1950\n",
      " 1925 1939 1940 1942 1936 1930 1915 1912 1917 1907 1968 1977 1927 1947\n",
      " 1954 1987 1996 1972 1945 1924 1931 1941 1994 1989 1921 1896 1976 2008\n",
      " 1965 1973 1984 1985 1991 1969 1995 1980 2007 1986 1981 1951 1953 1935\n",
      " 1902 1946 1934 1983 1880 1979 2001 1916 1918 1988 1937 1905 1928 1926\n",
      " 1929 1914 1895 1982 1879 1901 1919 1932]\n",
      "\n",
      "YearRemodAdd [1961 1958 1998 1992 1994 2007 1990 1970 1999 1971 1975 2010 2005 2006\n",
      " 2004 2002 1950 1993 2000 2003 1967 1978 1966 1964 2001 2008 2009 1959\n",
      " 1956 1952 1955 1960 1984 1954 1957 1962 1997 1980 1968 1987 1979 1996\n",
      " 1972 1985 1991 1989 1977 1976 1973 1986 1969 1995 1974 1981 1965 1951\n",
      " 1953 1963 1982 1988 1983]\n",
      "\n",
      "GarageYrBlt [1961.         1958.         1997.         1998.         1992.\n",
      " 1993.         1990.         1970.         1999.         1971.\n",
      " 1975.         2009.         2005.         2003.         2002.\n",
      " 2006.         2004.         1920.         1974.         2000.\n",
      " 2010.         1967.         1978.         1966.         1964.\n",
      " 1977.72121651 1994.         1949.         1959.         1956.\n",
      " 1952.         1955.         1989.         1950.         1960.\n",
      " 1963.         1900.         1957.         1938.         1948.\n",
      " 1962.         1928.         1930.         1926.         1939.\n",
      " 1973.         1942.         1979.         1923.         1915.\n",
      " 1917.         1940.         1910.         1969.         1968.\n",
      " 1977.         1945.         1987.         1947.         1954.\n",
      " 1941.         1951.         1896.         1976.         2008.\n",
      " 2007.         1965.         2001.         1972.         1984.\n",
      " 1985.         1996.         1995.         1980.         1986.\n",
      " 1981.         1982.         1991.         1988.         1953.\n",
      " 1924.         1927.         1946.         1934.         1983.\n",
      " 1916.         1918.         1937.         1932.         1935.\n",
      " 1925.         1921.         1895.         1922.         2207.\n",
      " 1936.         1943.         1919.        ]\n",
      "\n",
      "YrSold [2010 2009 2008 2007 2006]\n",
      "\n"
     ]
    }
   ],
   "source": [
    "for var in year_vars:\n",
    "    print(var, data[var].unique())\n",
    "    print()"
   ]
  },
  {
   "cell_type": "code",
   "execution_count": 17,
   "id": "645f9ff2",
   "metadata": {},
   "outputs": [],
   "source": [
    "for var in ['YearBuilt', 'YearRemodAdd', 'GarageYrBlt']:\n",
    "    data = elapsed_years(data, var)"
   ]
  },
  {
   "cell_type": "code",
   "execution_count": 18,
   "id": "e8cd6d89",
   "metadata": {},
   "outputs": [],
   "source": [
    "data.drop(['YrSold'], axis=1, inplace=True)"
   ]
  },
  {
   "cell_type": "markdown",
   "id": "adcd52ae",
   "metadata": {},
   "source": [
    "### Variable Transformation"
   ]
  },
  {
   "cell_type": "code",
   "execution_count": 19,
   "id": "7a95c948",
   "metadata": {},
   "outputs": [],
   "source": [
    "num_vars = [\n",
    "    var for var in data.columns if var not in cat_vars]"
   ]
  },
  {
   "cell_type": "code",
   "execution_count": 20,
   "id": "7703708c",
   "metadata": {},
   "outputs": [
    {
     "name": "stdout",
     "output_type": "stream",
     "text": [
      "Number of discrete variables:  26\n"
     ]
    }
   ],
   "source": [
    "#  let's male a list of discrete variables\n",
    "discrete_vars = [var for var in num_vars if len(\n",
    "    data[var].unique()) < 20 and var not in ['YearBuilt', 'YearRemodAdd', 'GarageYrBlt']]\n",
    "\n",
    "\n",
    "print('Number of discrete variables: ', len(discrete_vars))"
   ]
  },
  {
   "cell_type": "code",
   "execution_count": 21,
   "id": "7def0ae4",
   "metadata": {},
   "outputs": [],
   "source": [
    "cont_vars = [\n",
    "    var for var in num_vars if var not in discrete_vars+year_vars]"
   ]
  },
  {
   "cell_type": "code",
   "execution_count": 22,
   "id": "9ff2ef4a",
   "metadata": {},
   "outputs": [
    {
     "data": {
      "image/png": "[encoded data removed]",
      "text/plain": [
       "<Figure size 1080x1080 with 16 Axes>"
      ]
     },
     "metadata": {
      "needs_background": "light"
     },
     "output_type": "display_data"
    }
   ],
   "source": [
    "data[cont_vars].hist(bins=30, figsize=(15,15))\n",
    "plt.show()"
   ]
  },
  {
   "cell_type": "markdown",
   "id": "ad6028bb",
   "metadata": {},
   "source": [
    "#### Log Transforms"
   ]
  },
  {
   "cell_type": "code",
   "execution_count": 23,
   "id": "e340fe5f",
   "metadata": {},
   "outputs": [],
   "source": [
    "for var in [\"LotFrontage\", \"1stFlrSF\", \"GrLivArea\"]:\n",
    "    data[var] = np.log(data[var])"
   ]
  },
  {
   "cell_type": "code",
   "execution_count": 24,
   "id": "25c54ac2",
   "metadata": {},
   "outputs": [
    {
     "data": {
      "text/plain": [
       "[]"
      ]
     },
     "execution_count": 24,
     "metadata": {},
     "output_type": "execute_result"
    }
   ],
   "source": [
    "[var for var in [\"LotFrontage\", \"1stFlrSF\", \"GrLivArea\"] if data[var].isnull().sum() > 0]"
   ]
  },
  {
   "cell_type": "markdown",
   "id": "e3aa534a",
   "metadata": {},
   "source": [
    "#### Yeo Johnson Transforms"
   ]
  },
  {
   "cell_type": "code",
   "execution_count": 25,
   "id": "971aa5e2",
   "metadata": {},
   "outputs": [],
   "source": [
    "# the yeo-johnson transformation learns the best exponent to transform the variable\n",
    "# it needs to learn it from the train set: \n",
    "data['LotArea'], param = stats.yeojohnson(data['LotArea'])"
   ]
  },
  {
   "cell_type": "code",
   "execution_count": 26,
   "id": "6ebbe70c",
   "metadata": {},
   "outputs": [
    {
     "data": {
      "text/plain": [
       "[]"
      ]
     },
     "execution_count": 26,
     "metadata": {},
     "output_type": "execute_result"
    }
   ],
   "source": [
    "# check absence of na in the train set\n",
    "[var for var in data.columns if data[var].isnull().sum() > 0]"
   ]
  },
  {
   "cell_type": "markdown",
   "id": "9d44afa9",
   "metadata": {},
   "source": [
    "####  Binarize skewed variables\n",
    "There were a few variables very skewed, we would transform those into binary variables."
   ]
  },
  {
   "cell_type": "code",
   "execution_count": 27,
   "id": "c5240895",
   "metadata": {},
   "outputs": [],
   "source": [
    "skewed = [\n",
    "    'BsmtFinSF2', 'LowQualFinSF', 'EnclosedPorch',\n",
    "    '3SsnPorch', 'ScreenPorch', 'MiscVal'\n",
    "]\n",
    "\n",
    "for var in skewed:\n",
    "    \n",
    "    # map the variable values into 0 and 1\n",
    "    data[var] = np.where(data[var]==0, 0, 1)"
   ]
  },
  {
   "cell_type": "markdown",
   "id": "c136bde4",
   "metadata": {},
   "source": [
    "#### Apply mappings to categorials"
   ]
  },
  {
   "cell_type": "code",
   "execution_count": 28,
   "id": "88ff97a7",
   "metadata": {},
   "outputs": [],
   "source": [
    "# re-map strings to numbers, which determine quality\n",
    "\n",
    "qual_mappings = {'Po': 1, 'Fa': 2, 'TA': 3, 'Gd': 4, 'Ex': 5, 'Missing': 0, 'NA': 0}\n",
    "\n",
    "qual_vars = ['ExterQual', 'ExterCond', 'BsmtQual', 'BsmtCond',\n",
    "             'HeatingQC', 'KitchenQual', 'FireplaceQu',\n",
    "             'GarageQual', 'GarageCond',\n",
    "            ]\n",
    "\n",
    "for var in qual_vars:\n",
    "    data[var] = data[var].map(qual_mappings)"
   ]
  },
  {
   "cell_type": "code",
   "execution_count": 29,
   "id": "23c759ff",
   "metadata": {},
   "outputs": [],
   "source": [
    "exposure_mappings = {'No': 1, 'Mn': 2, 'Av': 3, 'Gd': 4}\n",
    "\n",
    "var = 'BsmtExposure'\n",
    "\n",
    "data[var] = data[var].map(exposure_mappings)"
   ]
  },
  {
   "cell_type": "code",
   "execution_count": 30,
   "id": "5cf3b514",
   "metadata": {},
   "outputs": [],
   "source": [
    "finish_mappings = {'Missing': 0, 'NA': 0, 'Unf': 1, 'LwQ': 2, 'Rec': 3, 'BLQ': 4, 'ALQ': 5, 'GLQ': 6}\n",
    "\n",
    "finish_vars = ['BsmtFinType1', 'BsmtFinType2']\n",
    "\n",
    "for var in finish_vars:\n",
    "    data[var] = data[var].map(finish_mappings)"
   ]
  },
  {
   "cell_type": "code",
   "execution_count": 31,
   "id": "301659f7",
   "metadata": {},
   "outputs": [],
   "source": [
    "garage_mappings = {'Missing': 0, 'NA': 0, 'Unf': 1, 'RFn': 2, 'Fin': 3}\n",
    "\n",
    "var = 'GarageFinish'\n",
    "\n",
    "data[var] = data[var].map(garage_mappings)"
   ]
  },
  {
   "cell_type": "code",
   "execution_count": 32,
   "id": "a5f16672",
   "metadata": {},
   "outputs": [],
   "source": [
    "fence_mappings = {'Missing': 0, 'NA': 0, 'MnWw': 1, 'GdWo': 2, 'MnPrv': 3, 'GdPrv': 4}\n",
    "\n",
    "var = 'Fence'\n",
    "\n",
    "data[var] = data[var].map(fence_mappings)"
   ]
  },
  {
   "cell_type": "code",
   "execution_count": 33,
   "id": "d9cfa607",
   "metadata": {},
   "outputs": [
    {
     "data": {
      "text/plain": [
       "[]"
      ]
     },
     "execution_count": 33,
     "metadata": {},
     "output_type": "execute_result"
    }
   ],
   "source": [
    "# check absence of na in the train set\n",
    "[var for var in data.columns if data[var].isnull().sum() > 0]"
   ]
  },
  {
   "cell_type": "markdown",
   "id": "01adfdcc",
   "metadata": {},
   "source": [
    "#### Removing Rare Labels"
   ]
  },
  {
   "cell_type": "code",
   "execution_count": 34,
   "id": "78477b5c",
   "metadata": {},
   "outputs": [
    {
     "data": {
      "text/plain": [
       "30"
      ]
     },
     "execution_count": 34,
     "metadata": {},
     "output_type": "execute_result"
    }
   ],
   "source": [
    "# capture all quality variables\n",
    "\n",
    "qual_vars  = qual_vars + finish_vars + ['BsmtExposure','GarageFinish','Fence']\n",
    "\n",
    "# capture the remaining categorical variables\n",
    "# (those that we did not re-map)\n",
    "\n",
    "cat_others = [\n",
    "    var for var in cat_vars if var not in qual_vars\n",
    "]\n",
    "\n",
    "len(cat_others)"
   ]
  },
  {
   "cell_type": "code",
   "execution_count": 35,
   "id": "aaf9ad06",
   "metadata": {},
   "outputs": [
    {
     "name": "stdout",
     "output_type": "stream",
     "text": [
      "MSZoning Index(['FV', 'RH', 'RL', 'RM'], dtype='object', name='MSZoning')\n",
      "\n",
      "Street Index(['Pave'], dtype='object', name='Street')\n",
      "\n",
      "Alley Index(['Grvl', 'Pave'], dtype='object', name='Alley')\n",
      "\n",
      "LotShape Index(['IR1', 'IR2', 'Reg'], dtype='object', name='LotShape')\n",
      "\n",
      "LandContour Index(['Bnk', 'HLS', 'Low', 'Lvl'], dtype='object', name='LandContour')\n",
      "\n",
      "Utilities Index(['AllPub'], dtype='object', name='Utilities')\n",
      "\n",
      "LotConfig Index(['Corner', 'CulDSac', 'FR2', 'Inside'], dtype='object', name='LotConfig')\n",
      "\n",
      "LandSlope Index(['Gtl', 'Mod'], dtype='object', name='LandSlope')\n",
      "\n",
      "Neighborhood Index(['Blmngtn', 'BrDale', 'BrkSide', 'ClearCr', 'CollgCr', 'Crawfor',\n",
      "       'Edwards', 'Gilbert', 'IDOTRR', 'MeadowV', 'Mitchel', 'NAmes', 'NWAmes',\n",
      "       'NoRidge', 'NridgHt', 'OldTown', 'SWISU', 'Sawyer', 'SawyerW',\n",
      "       'Somerst', 'StoneBr', 'Timber'],\n",
      "      dtype='object', name='Neighborhood')\n",
      "\n",
      "Condition1 Index(['Artery', 'Feedr', 'Norm', 'PosN', 'RRAn'], dtype='object', name='Condition1')\n",
      "\n",
      "Condition2 Index(['Norm'], dtype='object', name='Condition2')\n",
      "\n",
      "BldgType Index(['1Fam', '2fmCon', 'Duplex', 'Twnhs', 'TwnhsE'], dtype='object', name='BldgType')\n",
      "\n",
      "HouseStyle Index(['1.5Fin', '1Story', '2Story', 'SFoyer', 'SLvl'], dtype='object', name='HouseStyle')\n",
      "\n",
      "RoofStyle Index(['Gable', 'Hip'], dtype='object', name='RoofStyle')\n",
      "\n",
      "RoofMatl Index(['CompShg'], dtype='object', name='RoofMatl')\n",
      "\n",
      "Exterior1st Index(['AsbShng', 'BrkFace', 'CemntBd', 'HdBoard', 'MetalSd', 'Plywood',\n",
      "       'Stucco', 'VinylSd', 'Wd Sdng', 'WdShing'],\n",
      "      dtype='object', name='Exterior1st')\n",
      "\n",
      "Exterior2nd Index(['AsbShng', 'BrkFace', 'CmentBd', 'HdBoard', 'MetalSd', 'Plywood',\n",
      "       'Stucco', 'VinylSd', 'Wd Sdng', 'Wd Shng'],\n",
      "      dtype='object', name='Exterior2nd')\n",
      "\n",
      "MasVnrType Index(['BrkCmn', 'BrkFace', 'None', 'Stone'], dtype='object', name='MasVnrType')\n",
      "\n",
      "Foundation Index(['BrkTil', 'CBlock', 'PConc', 'Slab'], dtype='object', name='Foundation')\n",
      "\n",
      "Heating Index(['GasA', 'GasW'], dtype='object', name='Heating')\n",
      "\n",
      "CentralAir Index(['N', 'Y'], dtype='object', name='CentralAir')\n",
      "\n",
      "Electrical Index(['FuseA', 'FuseF', 'SBrkr'], dtype='object', name='Electrical')\n",
      "\n",
      "Functional Index(['Min1', 'Min2', 'Mod', 'Typ'], dtype='object', name='Functional')\n",
      "\n",
      "GarageType Index(['Attchd', 'Basment', 'BuiltIn', 'Detchd'], dtype='object', name='GarageType')\n",
      "\n",
      "PavedDrive Index(['N', 'P', 'Y'], dtype='object', name='PavedDrive')\n",
      "\n",
      "PoolQC Index([], dtype='object', name='PoolQC')\n",
      "\n",
      "MiscFeature Index(['Shed'], dtype='object', name='MiscFeature')\n",
      "\n",
      "SaleType Index(['COD', 'New', 'WD'], dtype='object', name='SaleType')\n",
      "\n",
      "SaleCondition Index(['Abnorml', 'Family', 'Normal', 'Partial'], dtype='object', name='SaleCondition')\n",
      "\n",
      "MSSubClass Int64Index([20, 30, 50, 60, 70, 75, 80, 85, 90, 120, 160, 190], dtype='int64', name='MSSubClass')\n",
      "\n"
     ]
    }
   ],
   "source": [
    "def find_frequent_labels(df, var, rare_perc):\n",
    "    \n",
    "    # function finds the labels that are shared by more than\n",
    "    # a certain % of the houses in the dataset\n",
    "\n",
    "    df = df.copy()\n",
    "\n",
    "    tmp = df.groupby(var)[var].count() / len(df)\n",
    "\n",
    "    return tmp[tmp > rare_perc].index\n",
    "\n",
    "\n",
    "for var in cat_others:\n",
    "    \n",
    "    # find the frequent categories\n",
    "    frequent_ls = find_frequent_labels(train_data, var, 0.01)\n",
    "    \n",
    "    print(var, frequent_ls)\n",
    "    print()\n",
    "    \n",
    "    # replace rare categories by the string \"Rare\"\n",
    "    train_data[var] = np.where(train_data[var].isin(\n",
    "        frequent_ls), train_data[var], 'Rare')\n",
    "    \n",
    "    data[var] = np.where(data[var].isin(\n",
    "        frequent_ls), data[var], 'Rare')"
   ]
  },
  {
   "cell_type": "markdown",
   "id": "29e911ae",
   "metadata": {},
   "source": [
    "#### Encoding of categorical variables"
   ]
  },
  {
   "cell_type": "code",
   "execution_count": 36,
   "id": "d11f4493",
   "metadata": {},
   "outputs": [],
   "source": [
    "def replace_categories(train, test, var, target):\n",
    "    \n",
    "    # order the categories in a variable from that with the lowest\n",
    "    # house sale price, to that with the highest\n",
    "    ordered_labels = train.groupby([var])[target].mean().sort_values().index\n",
    "\n",
    "    # create a dictionary of ordered categories to integer values\n",
    "    ordinal_label = {k: i for i, k in enumerate(ordered_labels, 0)}\n",
    "    \n",
    "    print(var, ordinal_label)\n",
    "    print()\n",
    "\n",
    "    # use the dictionary to replace the categorical strings by integers\n",
    "    train[var] = train[var].map(ordinal_label)\n",
    "    test[var] = test[var].map(ordinal_label)"
   ]
  },
  {
   "cell_type": "code",
   "execution_count": 37,
   "id": "60a593c2",
   "metadata": {},
   "outputs": [
    {
     "name": "stdout",
     "output_type": "stream",
     "text": [
      "MSZoning {'Rare': 0, 'RM': 1, 'RH': 2, 'RL': 3, 'FV': 4}\n",
      "\n",
      "Street {'Rare': 0, 'Pave': 1}\n",
      "\n",
      "Alley {'Grvl': 0, 'Pave': 1, 'Rare': 2}\n",
      "\n",
      "LotShape {'Reg': 0, 'IR1': 1, 'Rare': 2, 'IR2': 3}\n",
      "\n",
      "LandContour {'Bnk': 0, 'Lvl': 1, 'Low': 2, 'HLS': 3}\n",
      "\n",
      "Utilities {'Rare': 0, 'AllPub': 1}\n",
      "\n",
      "LotConfig {'Inside': 0, 'FR2': 1, 'Corner': 2, 'Rare': 3, 'CulDSac': 4}\n",
      "\n",
      "LandSlope {'Gtl': 0, 'Mod': 1, 'Rare': 2}\n",
      "\n",
      "Neighborhood {'MeadowV': 0, 'IDOTRR': 1, 'BrDale': 2, 'BrkSide': 3, 'Edwards': 4, 'OldTown': 5, 'Sawyer': 6, 'SWISU': 7, 'NAmes': 8, 'Mitchel': 9, 'SawyerW': 10, 'NWAmes': 11, 'Rare': 12, 'Gilbert': 13, 'Blmngtn': 14, 'CollgCr': 15, 'Crawfor': 16, 'ClearCr': 17, 'Somerst': 18, 'Timber': 19, 'StoneBr': 20, 'NridgHt': 21, 'NoRidge': 22}\n",
      "\n",
      "Condition1 {'Artery': 0, 'Feedr': 1, 'Rare': 2, 'RRAn': 3, 'Norm': 4, 'PosN': 5}\n",
      "\n",
      "Condition2 {'Rare': 0, 'Norm': 1}\n",
      "\n",
      "BldgType {'2fmCon': 0, 'Duplex': 1, 'Twnhs': 2, 'TwnhsE': 3, '1Fam': 4}\n",
      "\n",
      "HouseStyle {'SFoyer': 0, '1.5Fin': 1, 'Rare': 2, 'SLvl': 3, '1Story': 4, '2Story': 5}\n",
      "\n",
      "RoofStyle {'Gable': 0, 'Rare': 1, 'Hip': 2}\n",
      "\n",
      "RoofMatl {'CompShg': 0, 'Rare': 1}\n",
      "\n",
      "Exterior1st {'AsbShng': 0, 'MetalSd': 1, 'Wd Sdng': 2, 'WdShing': 3, 'Rare': 4, 'Stucco': 5, 'HdBoard': 6, 'Plywood': 7, 'BrkFace': 8, 'VinylSd': 9, 'CemntBd': 10}\n",
      "\n",
      "Exterior2nd {'AsbShng': 0, 'Wd Sdng': 1, 'MetalSd': 2, 'Stucco': 3, 'Wd Shng': 4, 'HdBoard': 5, 'Plywood': 6, 'Rare': 7, 'BrkFace': 8, 'VinylSd': 9, 'CmentBd': 10}\n",
      "\n",
      "MasVnrType {'BrkCmn': 0, 'None': 1, 'BrkFace': 2, 'Rare': 3, 'Stone': 4}\n",
      "\n",
      "Foundation {'Slab': 0, 'BrkTil': 1, 'CBlock': 2, 'Rare': 3, 'PConc': 4}\n",
      "\n",
      "Heating {'Rare': 0, 'GasW': 1, 'GasA': 2}\n",
      "\n",
      "CentralAir {'N': 0, 'Y': 1}\n",
      "\n",
      "Electrical {'Rare': 0, 'FuseF': 1, 'FuseA': 2, 'SBrkr': 3}\n",
      "\n",
      "Functional {'Rare': 0, 'Min2': 1, 'Min1': 2, 'Mod': 3, 'Typ': 4}\n",
      "\n",
      "GarageType {'Rare': 0, 'Detchd': 1, 'Basment': 2, 'Attchd': 3, 'BuiltIn': 4}\n",
      "\n",
      "PavedDrive {'N': 0, 'P': 1, 'Y': 2}\n",
      "\n",
      "PoolQC {'Rare': 0}\n",
      "\n",
      "MiscFeature {'Shed': 0, 'Rare': 1}\n",
      "\n",
      "SaleType {'COD': 0, 'Rare': 1, 'WD': 2, 'New': 3}\n",
      "\n",
      "SaleCondition {'Abnorml': 0, 'Family': 1, 'Rare': 2, 'Normal': 3, 'Partial': 4}\n",
      "\n",
      "MSSubClass {30: 0, 'Rare': 1, 190: 2, 90: 3, 160: 4, 50: 5, 85: 6, 70: 7, 80: 8, 20: 9, 75: 10, 120: 11, 60: 12}\n",
      "\n"
     ]
    }
   ],
   "source": [
    "for var in cat_others:\n",
    "    replace_categories(train_data, data, var, 'SalePrice')"
   ]
  },
  {
   "cell_type": "code",
   "execution_count": 45,
   "id": "639a341f",
   "metadata": {},
   "outputs": [
    {
     "ename": "KeyError",
     "evalue": "\"['YrSold', 'Id', 'SalePrice'] not in index\"",
     "output_type": "error",
     "traceback": [
      "\u001b[0;31m---------------------------------------------------------------------------\u001b[0m",
      "\u001b[0;31mKeyError\u001b[0m                                  Traceback (most recent call last)",
      "Input \u001b[0;32mIn [45]\u001b[0m, in \u001b[0;36m<cell line: 1>\u001b[0;34m()\u001b[0m\n\u001b[0;32m----> 1\u001b[0m \u001b[43mdata\u001b[49m\u001b[43m[\u001b[49m\u001b[43mtrain_data\u001b[49m\u001b[38;5;241;43m.\u001b[39;49m\u001b[43mcolumns\u001b[49m\u001b[38;5;241;43m.\u001b[39;49m\u001b[43mtolist\u001b[49m\u001b[43m(\u001b[49m\u001b[43m)\u001b[49m\u001b[43m]\u001b[49m\n",
      "File \u001b[0;32m~/.local/share/virtualenvs/section-04-research-and-development-lMZelWRj/lib/python3.8/site-packages/pandas/core/frame.py:3030\u001b[0m, in \u001b[0;36mDataFrame.__getitem__\u001b[0;34m(self, key)\u001b[0m\n\u001b[1;32m   3028\u001b[0m     \u001b[38;5;28;01mif\u001b[39;00m is_iterator(key):\n\u001b[1;32m   3029\u001b[0m         key \u001b[38;5;241m=\u001b[39m \u001b[38;5;28mlist\u001b[39m(key)\n\u001b[0;32m-> 3030\u001b[0m     indexer \u001b[38;5;241m=\u001b[39m \u001b[38;5;28;43mself\u001b[39;49m\u001b[38;5;241;43m.\u001b[39;49m\u001b[43mloc\u001b[49m\u001b[38;5;241;43m.\u001b[39;49m\u001b[43m_get_listlike_indexer\u001b[49m\u001b[43m(\u001b[49m\u001b[43mkey\u001b[49m\u001b[43m,\u001b[49m\u001b[43m \u001b[49m\u001b[43maxis\u001b[49m\u001b[38;5;241;43m=\u001b[39;49m\u001b[38;5;241;43m1\u001b[39;49m\u001b[43m,\u001b[49m\u001b[43m \u001b[49m\u001b[43mraise_missing\u001b[49m\u001b[38;5;241;43m=\u001b[39;49m\u001b[38;5;28;43;01mTrue\u001b[39;49;00m\u001b[43m)\u001b[49m[\u001b[38;5;241m1\u001b[39m]\n\u001b[1;32m   3032\u001b[0m \u001b[38;5;66;03m# take() does not accept boolean indexers\u001b[39;00m\n\u001b[1;32m   3033\u001b[0m \u001b[38;5;28;01mif\u001b[39;00m \u001b[38;5;28mgetattr\u001b[39m(indexer, \u001b[38;5;124m\"\u001b[39m\u001b[38;5;124mdtype\u001b[39m\u001b[38;5;124m\"\u001b[39m, \u001b[38;5;28;01mNone\u001b[39;00m) \u001b[38;5;241m==\u001b[39m \u001b[38;5;28mbool\u001b[39m:\n",
      "File \u001b[0;32m~/.local/share/virtualenvs/section-04-research-and-development-lMZelWRj/lib/python3.8/site-packages/pandas/core/indexing.py:1266\u001b[0m, in \u001b[0;36m_LocIndexer._get_listlike_indexer\u001b[0;34m(self, key, axis, raise_missing)\u001b[0m\n\u001b[1;32m   1263\u001b[0m \u001b[38;5;28;01melse\u001b[39;00m:\n\u001b[1;32m   1264\u001b[0m     keyarr, indexer, new_indexer \u001b[38;5;241m=\u001b[39m ax\u001b[38;5;241m.\u001b[39m_reindex_non_unique(keyarr)\n\u001b[0;32m-> 1266\u001b[0m \u001b[38;5;28;43mself\u001b[39;49m\u001b[38;5;241;43m.\u001b[39;49m\u001b[43m_validate_read_indexer\u001b[49m\u001b[43m(\u001b[49m\u001b[43mkeyarr\u001b[49m\u001b[43m,\u001b[49m\u001b[43m \u001b[49m\u001b[43mindexer\u001b[49m\u001b[43m,\u001b[49m\u001b[43m \u001b[49m\u001b[43maxis\u001b[49m\u001b[43m,\u001b[49m\u001b[43m \u001b[49m\u001b[43mraise_missing\u001b[49m\u001b[38;5;241;43m=\u001b[39;49m\u001b[43mraise_missing\u001b[49m\u001b[43m)\u001b[49m\n\u001b[1;32m   1267\u001b[0m \u001b[38;5;28;01mreturn\u001b[39;00m keyarr, indexer\n",
      "File \u001b[0;32m~/.local/share/virtualenvs/section-04-research-and-development-lMZelWRj/lib/python3.8/site-packages/pandas/core/indexing.py:1316\u001b[0m, in \u001b[0;36m_LocIndexer._validate_read_indexer\u001b[0;34m(self, key, indexer, axis, raise_missing)\u001b[0m\n\u001b[1;32m   1314\u001b[0m \u001b[38;5;28;01mif\u001b[39;00m raise_missing:\n\u001b[1;32m   1315\u001b[0m     not_found \u001b[38;5;241m=\u001b[39m \u001b[38;5;28mlist\u001b[39m(\u001b[38;5;28mset\u001b[39m(key) \u001b[38;5;241m-\u001b[39m \u001b[38;5;28mset\u001b[39m(ax))\n\u001b[0;32m-> 1316\u001b[0m     \u001b[38;5;28;01mraise\u001b[39;00m \u001b[38;5;167;01mKeyError\u001b[39;00m(\u001b[38;5;124mf\u001b[39m\u001b[38;5;124m\"\u001b[39m\u001b[38;5;132;01m{\u001b[39;00mnot_found\u001b[38;5;132;01m}\u001b[39;00m\u001b[38;5;124m not in index\u001b[39m\u001b[38;5;124m\"\u001b[39m)\n\u001b[1;32m   1318\u001b[0m not_found \u001b[38;5;241m=\u001b[39m key[missing_mask]\n\u001b[1;32m   1320\u001b[0m \u001b[38;5;28;01mwith\u001b[39;00m option_context(\u001b[38;5;124m\"\u001b[39m\u001b[38;5;124mdisplay.max_seq_items\u001b[39m\u001b[38;5;124m\"\u001b[39m, \u001b[38;5;241m10\u001b[39m, \u001b[38;5;124m\"\u001b[39m\u001b[38;5;124mdisplay.width\u001b[39m\u001b[38;5;124m\"\u001b[39m, \u001b[38;5;241m80\u001b[39m):\n",
      "\u001b[0;31mKeyError\u001b[0m: \"['YrSold', 'Id', 'SalePrice'] not in index\""
     ]
    }
   ],
   "source": [
    "data[]"
   ]
  },
  {
   "cell_type": "code",
   "execution_count": 40,
   "id": "f2f91d8d",
   "metadata": {
    "scrolled": true
   },
   "outputs": [
    {
     "data": {
      "text/plain": [
       "Index(['Id', 'MSSubClass', 'MSZoning', 'LotFrontage', 'LotArea', 'Street',\n",
       "       'Alley', 'LotShape', 'LandContour', 'Utilities', 'LotConfig',\n",
       "       'LandSlope', 'Neighborhood', 'Condition1', 'Condition2', 'BldgType',\n",
       "       'HouseStyle', 'OverallQual', 'OverallCond', 'YearBuilt', 'YearRemodAdd',\n",
       "       'RoofStyle', 'RoofMatl', 'Exterior1st', 'Exterior2nd', 'MasVnrType',\n",
       "       'MasVnrArea', 'ExterQual', 'ExterCond', 'Foundation', 'BsmtQual',\n",
       "       'BsmtCond', 'BsmtExposure', 'BsmtFinType1', 'BsmtFinSF1',\n",
       "       'BsmtFinType2', 'BsmtFinSF2', 'BsmtUnfSF', 'TotalBsmtSF', 'Heating',\n",
       "       'HeatingQC', 'CentralAir', 'Electrical', '1stFlrSF', '2ndFlrSF',\n",
       "       'LowQualFinSF', 'GrLivArea', 'BsmtFullBath', 'BsmtHalfBath', 'FullBath',\n",
       "       'HalfBath', 'BedroomAbvGr', 'KitchenAbvGr', 'KitchenQual',\n",
       "       'TotRmsAbvGrd', 'Functional', 'Fireplaces', 'FireplaceQu', 'GarageType',\n",
       "       'GarageYrBlt', 'GarageFinish', 'GarageCars', 'GarageArea', 'GarageQual',\n",
       "       'GarageCond', 'PavedDrive', 'WoodDeckSF', 'OpenPorchSF',\n",
       "       'EnclosedPorch', '3SsnPorch', 'ScreenPorch', 'PoolArea', 'PoolQC',\n",
       "       'Fence', 'MiscFeature', 'MiscVal', 'MoSold', 'YrSold', 'SaleType',\n",
       "       'SaleCondition', 'SalePrice'],\n",
       "      dtype='object')"
      ]
     },
     "execution_count": 40,
     "metadata": {},
     "output_type": "execute_result"
    }
   ],
   "source": [
    "train_data.columns"
   ]
  },
  {
   "cell_type": "markdown",
   "id": "b3187c70",
   "metadata": {},
   "source": [
    "#### Feature Scaling"
   ]
  },
  {
   "cell_type": "code",
   "execution_count": 48,
   "id": "2f5973d4",
   "metadata": {},
   "outputs": [],
   "source": [
    "columns = ['MSSubClass',\n",
    "            'MSZoning',\n",
    "            'LotFrontage',\n",
    "            'LotArea',\n",
    "            'Street',\n",
    "            'Alley',\n",
    "            'LotShape',\n",
    "            'LandContour',\n",
    "            'Utilities',\n",
    "            'LotConfig',\n",
    "            'LandSlope',\n",
    "            'Neighborhood',\n",
    "            'Condition1',\n",
    "            'Condition2',\n",
    "            'BldgType',\n",
    "            'HouseStyle',\n",
    "            'OverallQual',\n",
    "            'OverallCond',\n",
    "            'YearBuilt',\n",
    "            'YearRemodAdd',\n",
    "            'RoofStyle',\n",
    "            'RoofMatl',\n",
    "            'Exterior1st',\n",
    "            'Exterior2nd',\n",
    "            'MasVnrType',\n",
    "            'MasVnrArea',\n",
    "            'ExterQual',\n",
    "            'ExterCond',\n",
    "            'Foundation',\n",
    "            'BsmtQual',\n",
    "            'BsmtCond',\n",
    "            'BsmtExposure',\n",
    "            'BsmtFinType1',\n",
    "            'BsmtFinSF1',\n",
    "            'BsmtFinType2',\n",
    "            'BsmtFinSF2',\n",
    "            'BsmtUnfSF',\n",
    "            'TotalBsmtSF',\n",
    "            'Heating',\n",
    "            'HeatingQC',\n",
    "            'CentralAir',\n",
    "            'Electrical',\n",
    "            '1stFlrSF',\n",
    "            '2ndFlrSF',\n",
    "            'LowQualFinSF',\n",
    "            'GrLivArea',\n",
    "            'BsmtFullBath',\n",
    "            'BsmtHalfBath',\n",
    "            'FullBath',\n",
    "            'HalfBath',\n",
    "            'BedroomAbvGr',\n",
    "            'KitchenAbvGr',\n",
    "            'KitchenQual',\n",
    "            'TotRmsAbvGrd',\n",
    "            'Functional',\n",
    "            'Fireplaces',\n",
    "            'FireplaceQu',\n",
    "            'GarageType',\n",
    "            'GarageYrBlt',\n",
    "            'GarageFinish',\n",
    "            'GarageCars',\n",
    "            'GarageArea',\n",
    "            'GarageQual',\n",
    "            'GarageCond',\n",
    "            'PavedDrive',\n",
    "            'WoodDeckSF',\n",
    "            'OpenPorchSF',\n",
    "            'EnclosedPorch',\n",
    "            '3SsnPorch',\n",
    "            'ScreenPorch',\n",
    "            'PoolArea',\n",
    "            'PoolQC',\n",
    "            'Fence',\n",
    "            'MiscFeature',\n",
    "            'MiscVal',\n",
    "            'MoSold',\n",
    "            'SaleType',\n",
    "            'SaleCondition',\n",
    "            'LotFrontage_na',\n",
    "            'MasVnrArea_na',\n",
    "            'GarageYrBlt_na']"
   ]
  },
  {
   "cell_type": "code",
   "execution_count": 49,
   "id": "0465e0dd",
   "metadata": {},
   "outputs": [],
   "source": [
    "scaler = joblib.load('minmax_scaler.joblib') \n",
    "\n",
    "data = pd.DataFrame(\n",
    "    scaler.transform(data[columns]),\n",
    "    columns=data[columns].columns\n",
    ")"
   ]
  },
  {
   "cell_type": "markdown",
   "id": "770edfbc",
   "metadata": {},
   "source": [
    "#### Select the features for prediction"
   ]
  },
  {
   "cell_type": "code",
   "execution_count": 50,
   "id": "043fef9d",
   "metadata": {},
   "outputs": [
    {
     "data": {
      "text/plain": [
       "['MSSubClass',\n",
       " 'MSZoning',\n",
       " 'LotFrontage',\n",
       " 'LotShape',\n",
       " 'LandContour',\n",
       " 'LotConfig',\n",
       " 'Neighborhood',\n",
       " 'OverallQual',\n",
       " 'OverallCond',\n",
       " 'YearRemodAdd',\n",
       " 'RoofStyle',\n",
       " 'Exterior1st',\n",
       " 'ExterQual',\n",
       " 'Foundation',\n",
       " 'BsmtQual',\n",
       " 'BsmtExposure',\n",
       " 'BsmtFinType1',\n",
       " 'HeatingQC',\n",
       " 'CentralAir',\n",
       " '1stFlrSF',\n",
       " '2ndFlrSF',\n",
       " 'GrLivArea',\n",
       " 'BsmtFullBath',\n",
       " 'HalfBath',\n",
       " 'KitchenQual',\n",
       " 'TotRmsAbvGrd',\n",
       " 'Functional',\n",
       " 'Fireplaces',\n",
       " 'FireplaceQu',\n",
       " 'GarageFinish',\n",
       " 'GarageCars',\n",
       " 'GarageArea',\n",
       " 'PavedDrive',\n",
       " 'WoodDeckSF',\n",
       " 'ScreenPorch',\n",
       " 'SaleCondition']"
      ]
     },
     "execution_count": 50,
     "metadata": {},
     "output_type": "execute_result"
    }
   ],
   "source": [
    "features = pd.read_csv('selected_features.csv')\n",
    "features = features['0'].to_list() \n",
    "\n",
    "# display final feature set\n",
    "features"
   ]
  },
  {
   "cell_type": "code",
   "execution_count": 51,
   "id": "996a3bd4",
   "metadata": {},
   "outputs": [],
   "source": [
    "data = data[features]"
   ]
  },
  {
   "cell_type": "code",
   "execution_count": 52,
   "id": "097d1d01",
   "metadata": {},
   "outputs": [],
   "source": [
    "lin_model = joblib.load('linear_regression.joblib')"
   ]
  },
  {
   "cell_type": "code",
   "execution_count": 53,
   "id": "82cb513b",
   "metadata": {},
   "outputs": [],
   "source": [
    "# make predictions for test set\n",
    "pred = lin_model.predict(data)"
   ]
  },
  {
   "cell_type": "code",
   "execution_count": 54,
   "id": "fd721399",
   "metadata": {},
   "outputs": [
    {
     "name": "stdout",
     "output_type": "stream",
     "text": [
      "Average house price:  159497\n"
     ]
    }
   ],
   "source": [
    "print('Average house price: ', int(np.median(np.exp(pred))))"
   ]
  },
  {
   "cell_type": "code",
   "execution_count": null,
   "id": "050561f8",
   "metadata": {},
   "outputs": [],
   "source": []
  }
 ],
 "metadata": {
  "kernelspec": {
   "display_name": "Python 3 (ipykernel)",
   "language": "python",
   "name": "python3"
  },
  "language_info": {
   "codemirror_mode": {
    "name": "ipython",
    "version": 3
   },
   "file_extension": ".py",
   "mimetype": "text/x-python",
   "name": "python",
   "nbconvert_exporter": "python",
   "pygments_lexer": "ipython3",
   "version": "3.8.9"
  }
 },
 "nbformat": 4,
 "nbformat_minor": 5
}
